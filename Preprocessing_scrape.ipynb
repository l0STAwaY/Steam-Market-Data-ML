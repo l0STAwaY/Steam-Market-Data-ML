{
 "cells": [
  {
   "cell_type": "markdown",
   "metadata": {},
   "source": [
    "# Preprocessing \n",
    "# Review data\n"
   ]
  },
  {
   "cell_type": "markdown",
   "metadata": {},
   "source": [
    "## Formating of review data\n"
   ]
  },
  {
   "cell_type": "code",
   "execution_count": 43,
   "metadata": {},
   "outputs": [
    {
     "name": "stdout",
     "output_type": "stream",
     "text": [
      "0        721\n",
      "1        518\n",
      "2        535\n",
      "3        293\n",
      "4        301\n",
      "        ... \n",
      "83517      1\n",
      "83518      2\n",
      "83519      0\n",
      "83520      0\n",
      "83521     27\n",
      "Name: helpful_count, Length: 83522, dtype: int64\n"
     ]
    }
   ],
   "source": [
    "import pandas as pd\n",
    "\n",
    "\n",
    "file_path = \"/Users/apple/Documents/GitHub/Steam-Market-Data-ML/very_final_reviews_copy.csv\"\n",
    "df = pd.read_csv(file_path)\n",
    "\n",
    "# Convert 'game_time' to a numeric value\n",
    "# not using regular expression regex=False hence treat as regular string\n",
    "# The astype() method in Python, particularly within the Pandas library, is used for explicitly converting the data type of a Series or DataFrame column. \n",
    "# It enables you to change the data type of one or more columns, which is crucial for data manipulation and analysis.\n",
    "df['game_time'] = df['game_time'].str.replace(\" hrs on record\", \"\", regex=False)\n",
    "df['game_time'] = df['game_time'].str.replace(\",\", \"\", regex=False).astype(float)\n",
    "\n",
    "# Convert 'helpful_count' to integer\n",
    "\n",
    "\n",
    "\n",
    "# Extract the first number for helpful_count (the number of people who found the review helpful)\n",
    "\n",
    "# extract first number\n",
    "# https://www.reddit.com/r/learnprogramming/comments/vk0ujs/in_regular_expressions_what_is_the_difference/\n",
    "# https://www.reddit.com/r/learnprogramming/comments/vk0ujs/in_regular_expressions_what_is_the_difference/\n",
    "\n",
    "df['helpful_count'] = df['helpful_count'].str.extract(r'(\\d+)')\n",
    "\n",
    "# Fill NaN values with 0 (to handle cases where no number is found)\n",
    "df['helpful_count'] = df['helpful_count'].fillna(0)\n",
    "df['helpful_count'] = df['helpful_count'].replace(\"No one has rated this review as helpful yet\", \"0\")\n",
    "# Extract the second number for award_count (if present)\n",
    "\n",
    "\n",
    "\n",
    "df['helpful_count'] = df['helpful_count'].astype(int)\n",
    "\n",
    "# Print the cleaned dataframe\n",
    "print(df['helpful_count'])\n",
    "\n",
    "# Remove the \"Posted: \" prefix\n",
    "df['review_date'] = df['review_date'].str.replace(\"Posted: \", \"\", regex=False)\n",
    "\n",
    "# Convert the 'review_date' column into datetime format (allow pandas to infer the format)\n",
    "# https://dateutil.readthedocs.io/en/stable/parser.html convinently data time uses https://dateutil.readthedocs.io/en/stable/parser.html which automatically\n",
    "# recognize date name!\n",
    "# https://medium.com/@mayurdalvi.5/100-days-of-data-science-and-machine-learning-day-6-date-and-time-manipulation-with-pandas-03abb8f48ba4\n",
    "# I am not clear 100% how the strings are recognized\n",
    "\n",
    "# (?<!2024): Negative lookbehind, meaning \"do not match if '2024' is right before this position.\"\n",
    "# replace the end with \", 2024\"\n",
    "#https://www.tpointtech.com/regex-lookbehind-in-python negative lookbehind\n",
    "df['review_date'] = df['review_date'].str.replace(r\"(?<!2024)$\", \", 2024\", regex=True)\n",
    "df['review_date'] = pd.to_datetime(df['review_date'], errors='coerce')\n",
    "\n",
    "# Print the cleaned 'review_date' column\n",
    "\n",
    "output_file_path = \"/Users/apple/Documents/GitHub/Steam-Market-Data-ML/cleaned_reviews.csv\"\n",
    "df.to_csv(output_file_path, index=False)\n"
   ]
  },
  {
   "cell_type": "markdown",
   "metadata": {},
   "source": [
    "# Create percentage golden data"
   ]
  },
  {
   "cell_type": "code",
   "execution_count": null,
   "metadata": {},
   "outputs": [
    {
     "name": "stdout",
     "output_type": "stream",
     "text": [
      "83522\n",
      "<class 'numpy.ndarray'>\n",
      "[62826  8158 41253 ... 33412  4496 63762]\n",
      "steam_id              0\n",
      "game_time             0\n",
      "recommend         25056\n",
      "helpful_count         0\n",
      "review_date           0\n",
      "review_comment        1\n",
      "early_access          0\n",
      "refund                0\n",
      "game_id               0\n",
      "name                  0\n",
      "dtype: int64\n"
     ]
    }
   ],
   "source": [
    "#  Create a dataset that is by a certain percentage unlabled\n",
    "\n",
    "import pandas as pd\n",
    "import numpy as np \n",
    "unlabeled_df = pd.read_csv(\"/Users/apple/Documents/GitHub/Steam-Market-Data-ML/cleaned_reviews.csv\")\n",
    "print(len(unlabeled_df))\n",
    "unlabel_percentage = 0.3\n",
    "num_unlabeled = int(len(df) * unlabel_percentage)\n",
    "\n",
    "# https://numpy.org/doc/2.1/reference/random/generated/numpy.random.choice.html\n",
    "np.random.seed(2025)\n",
    "\n",
    "# https://pandas.pydata.org/docs/reference/api/pandas.DataFrame.html all the attributes\n",
    "# https://numpy.org/doc/2.1/reference/random/generated/numpy.random.choice.html\n",
    "# replace=False meaning that value can only be selected once\n",
    "unlabeled_df.index\n",
    "unlabeled_index = np.random.choice(unlabeled_df.index, num_unlabeled, replace=False)\n",
    "print(type(unlabeled_index))\n",
    "print(unlabeled_index)\n",
    "\n",
    "\n",
    "unlabeled_df.loc[unlabeled_index, \"recommend\"] = np.nan  # Set selected labels to NaN (unlabeled)\n",
    "\n",
    "unlabeled_df.to_csv(\"unlabeled_reviews.csv\", index=False)\n",
    "\n",
    "\n",
    "\n",
    "print(unlabeled_df.isna().sum())\n",
    "\n",
    "\n",
    "\n"
   ]
  },
  {
   "cell_type": "markdown",
   "metadata": {},
   "source": [
    "This is used to simulate smaller sample"
   ]
  },
  {
   "cell_type": "markdown",
   "metadata": {},
   "source": [
    "# Combining and fixing the data for player count and macro data"
   ]
  },
  {
   "cell_type": "code",
   "execution_count": 85,
   "metadata": {},
   "outputs": [
    {
     "name": "stderr",
     "output_type": "stream",
     "text": [
      "/var/folders/nz/1d138x554532lzm46blcd3y80000gn/T/ipykernel_36252/3223595577.py:14: UserWarning: Could not infer format, so each element will be parsed individually, falling back to `dateutil`. To ensure parsing is consistent and as-expected, please specify a format.\n",
      "  player_count[\"date\"] = pd.to_datetime(player_count[\"date\"], errors='coerce')\n"
     ]
    }
   ],
   "source": [
    "\n",
    "\n",
    "import pandas as pd\n",
    "\n",
    "\n",
    "player_count_path = \"/Users/apple/Documents/GitHub/Steam-Market-Data-ML/player_count_reviews.csv\"\n",
    "player_count = pd.read_csv(player_count_path)\n",
    "\n",
    "\n",
    "player_count[\"player_count\"] =  player_count[\"player_count\"].str.replace(\",\", \"\", regex=False).astype(float)\n",
    "\n",
    "\n",
    "\n",
    "player_count[\"gain\"] = player_count[\"gain\"].str.replace(\",\", \"\", regex=False).astype(float)\n",
    "\n",
    "player_count[\"date\"] = pd.to_datetime(player_count[\"date\"], errors='coerce')\n",
    "\n",
    "\n",
    " \n",
    "macro_data_path = \"/Users/apple/Documents/GitHub/Steam-Market-Data-ML/macro_reviews.csv\"\n",
    "macro_data = pd.read_csv(macro_data_path)\n",
    "\n",
    "merge_data = pd.merge(player_count,macro_data, on=\"game_id\",how=\"left\")\n",
    "\n",
    "merge_data[\"total_review\"] = merge_data[\"total_review\"].str.replace(\",\", \"\", regex=False).astype(float)\n",
    "merge_data[\"peak_player\"] = merge_data[\"peak_player\"].str.replace(\",\", \"\", regex=False).astype(float)\n",
    "merge_data[\"game_id\"] = merge_data[\"game_id\"].astype(int)\n",
    "merge_data['positive_percent'] = merge_data['positive_percent'].str.replace('%', '').astype(float) / 100\n",
    "merge_data.to_csv(\"merged_player_count.csv\", index=False)\n"
   ]
  }
 ],
 "metadata": {
  "kernelspec": {
   "display_name": "cosc410",
   "language": "python",
   "name": "python3"
  },
  "language_info": {
   "codemirror_mode": {
    "name": "ipython",
    "version": 3
   },
   "file_extension": ".py",
   "mimetype": "text/x-python",
   "name": "python",
   "nbconvert_exporter": "python",
   "pygments_lexer": "ipython3",
   "version": "3.10.16"
  }
 },
 "nbformat": 4,
 "nbformat_minor": 2
}
