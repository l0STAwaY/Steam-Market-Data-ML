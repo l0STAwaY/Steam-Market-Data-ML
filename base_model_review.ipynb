{
 "cells": [
  {
   "cell_type": "markdown",
   "metadata": {},
   "source": [
    "# Base sentiment labling -- prediciting labels with non missing/accurate data(sklearn)"
   ]
  },
  {
   "cell_type": "markdown",
   "metadata": {},
   "source": [
    "## Logistic regression and tokenization using  TfidfVectorizer"
   ]
  },
  {
   "cell_type": "code",
   "execution_count": 3,
   "metadata": {},
   "outputs": [
    {
     "name": "stdout",
     "output_type": "stream",
     "text": [
      "1\n",
      "\n",
      "Evaluation Results on Test Data:\n",
      "Accuracy:  0.8649506135887459\n",
      "Precision: 0.8581362375605909\n",
      "Recall:    0.8286273977149197\n",
      "Accuracy: 0.8650\n"
     ]
    }
   ],
   "source": [
    "from datasets import load_dataset\n",
    "from sklearn.model_selection import train_test_split\n",
    "from sklearn.feature_extraction.text import TfidfVectorizer\n",
    "from sklearn.linear_model import LogisticRegression\n",
    "from sklearn.metrics import accuracy_score, precision_score, recall_score\n",
    "import pandas as pd\n",
    "\n",
    "review_data = pd.read_csv(\"/Users/apple/Documents/GitHub/Steam-Market-Data-ML/cleaned_reviews.csv\")\n",
    "\n",
    "\n",
    "print(review_data[\"review_comment\"].isna().sum())\n",
    "review_data[\"review_comment\"] = review_data[\"review_comment\"].fillna(\"\") \n",
    "review_data[\"recommend\"] = review_data[\"recommend\"].map({\"Recommended\": 1, \"Not Recommended\": 0})\n",
    "\n",
    "vectorizer = TfidfVectorizer()\n",
    "\n",
    "review_vectorized = vectorizer.fit_transform(review_data[\"review_comment\"])\n",
    "review_X = vectorizer.fit_transform(review_data[\"review_comment\"])  # Convert text to TF-IDF features\n",
    "review_y = review_data[\"recommend\"]\n",
    "\n",
    "\n",
    "# print(vectorizer.get_feature_names_out())  # Shows vocabulary\n",
    "review_X_train, review_X_test, review_y_train, review_y_test = train_test_split(review_X, review_y, test_size=0.2, random_state=2025)\n",
    "logit_review_model = LogisticRegression()\n",
    "\n",
    "\n",
    "logit_review_model.fit(review_X_train, review_y_train)\n",
    "\n",
    "review_y_pred = logit_review_model.predict(review_X_test)\n",
    "\n",
    "# print(review_X_train.shape[0])\n",
    "\n",
    "accuracy = accuracy_score(review_y_test, review_y_pred )\n",
    "precision = precision_score(review_y_test, review_y_pred ,average='macro')\n",
    "recall = recall_score(review_y_test, review_y_pred ,average='macro')\n",
    "\n",
    "\n",
    "print(\"\\nEvaluation Results on Test Data:\")\n",
    "print(f\"Accuracy:  {accuracy}\")\n",
    "print(f\"Precision: {precision}\")\n",
    "print(f\"Recall:    {recall}\")\n",
    "print(f\"Accuracy: {accuracy:.4f}\")\n",
    "\n",
    "\n"
   ]
  },
  {
   "cell_type": "markdown",
   "metadata": {},
   "source": [
    "Transforms text data into numerical features rather than embedding for the moment since for the base example it's less compuationally intensive and does the job for transfomation for the base models. Standarize and min max scaling are used for contious variable and that is why I didn't apply them here."
   ]
  },
  {
   "cell_type": "code",
   "execution_count": 4,
   "metadata": {},
   "outputs": [],
   "source": [
    "from sklearn.preprocessing import StandardScaler"
   ]
  },
  {
   "cell_type": "markdown",
   "metadata": {},
   "source": [
    "## More detailed evlaution of the model"
   ]
  },
  {
   "cell_type": "code",
   "execution_count": 5,
   "metadata": {},
   "outputs": [
    {
     "name": "stdout",
     "output_type": "stream",
     "text": [
      "\n",
      "Summary Statistics evaluation:\n",
      "{'0': {'precision': 0.8425531914893617, 'recall': 0.7231555880204529, 'f1-score': 0.7783018867924528, 'support': 5476.0}, '1': {'precision': 0.87371928363182, 'recall': 0.9340992074093865, 'f1-score': 0.902900921063958, 'support': 11229.0}, 'accuracy': 0.8649506135887459, 'macro avg': {'precision': 0.8581362375605909, 'recall': 0.8286273977149197, 'f1-score': 0.8406014039282055, 'support': 16705.0}, 'weighted avg': {'precision': 0.8635028501944, 'recall': 0.8649506135887459, 'f1-score': 0.8620566042922873, 'support': 16705.0}}\n"
     ]
    },
    {
     "data": {
      "image/png": "[encoded data removed]",
      "text/plain": [
       "<Figure size 600x600 with 2 Axes>"
      ]
     },
     "metadata": {},
     "output_type": "display_data"
    }
   ],
   "source": [
    "from sklearn.metrics import classification_report, confusion_matrix\n",
    "import numpy as np\n",
    "import matplotlib.pyplot as plt\n",
    "import seaborn as sns\n",
    "\n",
    "\n",
    "report = classification_report(review_y_test, review_y_pred, output_dict=True)\n",
    "\n",
    "# Print summary statistics\n",
    "print(\"\\nSummary Statistics evaluation:\")\n",
    "print(report)\n",
    "\n",
    "\n",
    "\n",
    "# Confusion matrix\n",
    "conf_matrix = confusion_matrix(review_y_test, review_y_pred)\n",
    "labels = np.unique(review_y_test)\n",
    "\n",
    "# Plot confusion matrix\n",
    "plt.figure(figsize=(6, 6))\n",
    "sns.heatmap(conf_matrix, annot=True, fmt=\"d\", cmap=\"Blues\", xticklabels=labels, yticklabels=labels)\n",
    "plt.xlabel(\"Predicted Label\")\n",
    "plt.ylabel(\"True Label\")\n",
    "plt.title(\"Confusion Matrix\")\n",
    "plt.show()\n",
    "\n",
    "\n",
    "\n",
    "\n",
    "\n"
   ]
  },
  {
   "cell_type": "markdown",
   "metadata": {},
   "source": [
    "## summary statistic for prediction dataset\n",
    "\n",
    "\n"
   ]
  },
  {
   "cell_type": "code",
   "execution_count": 6,
   "metadata": {},
   "outputs": [
    {
     "name": "stdout",
     "output_type": "stream",
     "text": [
      "       Predicted Labels\n",
      "count      16705.000000\n",
      "mean           0.718647\n",
      "std            0.449673\n",
      "min            0.000000\n",
      "25%            0.000000\n",
      "50%            1.000000\n",
      "75%            1.000000\n",
      "max            1.000000\n",
      "----------------\n",
      "          recommend\n",
      "count  16705.000000\n",
      "mean       0.672194\n",
      "std        0.469428\n",
      "min        0.000000\n",
      "25%        0.000000\n",
      "50%        1.000000\n",
      "75%        1.000000\n",
      "max        1.000000\n"
     ]
    }
   ],
   "source": [
    "# print(Dataframe(review_y_pred).describe())\n",
    "df_preds = pd.DataFrame(review_y_pred, columns= [\"Predicted Labels\"])\n",
    "print(df_preds.describe())\n",
    "\n",
    "print(\"----------------\")\n",
    "\n",
    "df_test = pd.DataFrame(review_y_test) \n",
    "print(df_test.describe())\n",
    "\n"
   ]
  },
  {
   "cell_type": "markdown",
   "metadata": {},
   "source": [
    "This is the summary statistic but what we care more is about the evaluation in this case, since the interpretation of the output data itself not a focus of the research problem rather than the labeling this of relative lesser importance. But we can compare it to the original labled data summary statistic. which is largly similar. "
   ]
  },
  {
   "cell_type": "markdown",
   "metadata": {},
   "source": [
    "## Include other features(TBD)"
   ]
  },
  {
   "cell_type": "markdown",
   "metadata": {},
   "source": [
    "## SVM(I suspect it would fail to run due to the high dimension, but I'm trying anyways,failed )"
   ]
  },
  {
   "cell_type": "code",
   "execution_count": null,
   "metadata": {},
   "outputs": [],
   "source": [
    "# from sklearn.decomposition import PCA\n",
    "\n",
    "# # Reduce dimensions using PCA\n",
    "# pca = PCA(n_components=10000)  # You can experiment with this number\n",
    "# review_X_pca = pca.fit_transform(review_X.toarray())  # Apply PCA on the sparse matrix\n",
    "\n",
    "# print(\"PCA dones\")\n",
    "# # Now use SVM with reduced dimensions\n",
    "# from sklearn.svm import SVC\n",
    "\n",
    "# svm_model = SVC(kernel=\"linear\")\n",
    "# svm_model.fit(review_X_pca, review_y_train)\n",
    "\n",
    "# review_y_pred_svm = svm_model.predict(review_X_pca)\n",
    "\n",
    "# accuracy_svm = accuracy_score(review_y_test, review_y_pred_svm)\n",
    "# precision_svm = precision_score(review_y_test, review_y_pred_svm, average='macro')\n",
    "# recall_svm = recall_score(review_y_test, review_y_pred_svm, average='macro')\n",
    "\n",
    "# print(\"\\nSVM with PCA Evaluation Results:\")\n",
    "# print(f\"Accuracy: {accuracy_svm:.4f}\")\n",
    "# print(f\"Precision: {precision_svm:.4f}\")\n",
    "# print(f\"Recall: {recall_svm:.4f}\")"
   ]
  },
  {
   "cell_type": "markdown",
   "metadata": {},
   "source": [
    "We face memory and runtime issue despite using pca"
   ]
  },
  {
   "cell_type": "code",
   "execution_count": null,
   "metadata": {},
   "outputs": [],
   "source": []
  }
 ],
 "metadata": {
  "kernelspec": {
   "display_name": "cosc410",
   "language": "python",
   "name": "python3"
  },
  "language_info": {
   "codemirror_mode": {
    "name": "ipython",
    "version": 3
   },
   "file_extension": ".py",
   "mimetype": "text/x-python",
   "name": "python",
   "nbconvert_exporter": "python",
   "pygments_lexer": "ipython3",
   "version": "3.10.16"
  }
 },
 "nbformat": 4,
 "nbformat_minor": 2
}
